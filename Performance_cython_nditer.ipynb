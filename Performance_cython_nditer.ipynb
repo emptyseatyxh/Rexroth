{
 "cells": [
  {
   "cell_type": "markdown",
   "metadata": {},
   "source": [
    "# Performance competition"
   ]
  },
  {
   "cell_type": "markdown",
   "metadata": {},
   "source": [
    "Code to detecte the neighbouring bubble, and choose the one with the biggest velocity magnitude"
   ]
  },
  {
   "cell_type": "markdown",
   "metadata": {},
   "source": [
    "bnc:      bubble neighbouring cells, the neighbouring cells for the cell where the bubble is now located;"
   ]
  },
  {
   "cell_type": "markdown",
   "metadata": {},
   "source": [
    "bc:       bubble cell, the cell ID which the bubble is now in;"
   ]
  },
  {
   "cell_type": "markdown",
   "metadata": {},
   "source": [
    "velocity: bubble velocity, shape=(n,3), n is total bubble number"
   ]
  },
  {
   "cell_type": "markdown",
   "metadata": {},
   "source": [
    "bp:       bubble partner, shape=(n,), which indicates the chosen bubble partner"
   ]
  },
  {
   "cell_type": "markdown",
   "metadata": {},
   "source": [
    "count:    shape=(n,): how many bubbles stay in the neighouring cells for each bubble"
   ]
  },
  {
   "cell_type": "code",
   "execution_count": 16,
   "metadata": {
    "collapsed": true
   },
   "outputs": [],
   "source": [
    "# this is a numpy version\n",
    "\n",
    "import numpy\n",
    "\n",
    "def nsearch(bnc, bc, velocity):\n",
    "    l, w = bnc.shape\n",
    "    bp = np.zeros(l, dtype=\"int64\") - 1\n",
    "    count = np.zeros(l, dtype=\"int64\")\n",
    "    \n",
    "    for main in range(l):\n",
    "        for partner in range(main+1, l):\n",
    "            partnerID = bc[partner]\n",
    "            if partnerID in bnc[main, :]:\n",
    "                if bp[main] == -1:\n",
    "                    bp[main] = partner\n",
    "                else:\n",
    "                    tempoz = np.sum(velocity[bp[main], :]*velocity[bp[main], :])\n",
    "                    if tempoz < np.sum(velocity[partner, :]*velocity[partner, :]):\n",
    "                        bp[main] = partner\n",
    "                count[main] += 1\n",
    "\n",
    "    return bp, count"
   ]
  },
  {
   "cell_type": "code",
   "execution_count": 17,
   "metadata": {
    "collapsed": false
   },
   "outputs": [
    {
     "name": "stdout",
     "output_type": "stream",
     "text": [
      "The Cython extension is already loaded. To reload it, use:\n",
      "  %reload_ext Cython\n"
     ]
    }
   ],
   "source": [
    "%load_ext Cython"
   ]
  },
  {
   "cell_type": "code",
   "execution_count": 18,
   "metadata": {
    "collapsed": false
   },
   "outputs": [],
   "source": [
    "%%cython\n",
    "# this is a cython view with optimized memoryview and variable type defining\n",
    "\n",
    "import cython\n",
    "import numpy as np\n",
    "cimport numpy as np\n",
    "\n",
    "cdef void csearch(long [:,:] bnc, long [:] bc, double [:,:] velocity, long [:] bp, long [:] count):\n",
    "    cdef long main, partner, l, w, i\n",
    "    \n",
    "    l = bnc.shape[0]\n",
    "    w = bnc.shape[1]\n",
    "    \n",
    "    for main in range(l):\n",
    "        for partner in range(main+1, l):\n",
    "            partnerID = bc[partner]\n",
    "            for i in range(w):\n",
    "                if partnerID == bnc[main, i]:\n",
    "                    if bp[main] == -1:\n",
    "                        bp[main] = partner\n",
    "                    else:\n",
    "                        tempoz = velocity[bp[main], 0]*velocity[bp[main], 0] + \\\n",
    "                                 velocity[bp[main], 1]*velocity[bp[main], 1] + \\\n",
    "                                 velocity[bp[main], 2]*velocity[bp[main], 2]\n",
    "                                \n",
    "                        if tempoz < velocity[partner, 0]*velocity[partner, 0] + \\\n",
    "                                    velocity[partner, 1]*velocity[partner, 1] + \\\n",
    "                                    velocity[partner, 2]*velocity[partner, 2]:\n",
    "                            bp[main] = partner\n",
    "                    count[main] += 1\n",
    "                    break\n",
    "                    \n",
    "def csearch1(bnc, bc, velocity, bp, count):\n",
    "    csearch(bnc, bc, velocity, bp, count)"
   ]
  },
  {
   "cell_type": "code",
   "execution_count": 19,
   "metadata": {
    "collapsed": false
   },
   "outputs": [],
   "source": [
    "%%cython\n",
    "# this is a cython version with numpy provided array iterator np.nditer, which enables efficient elementwise array operation.\n",
    "\n",
    "import cython\n",
    "import numpy as np\n",
    "cimport numpy as np\n",
    "\n",
    "DTYPE = np.int\n",
    "ctypedef np.int_t DTYPE_t\n",
    "\n",
    "# np.ndarray[DTYPE_t, ndim=1]\n",
    "\n",
    "@cython.boundscheck(False)\n",
    "def csearch2(long [:,:] bnc, long [:] bc, double [:,:] velocity):\n",
    "    cdef long size, w, i, j, k, partnerID\n",
    "    cdef double tempoz\n",
    "    cdef np.ndarray[long] rbc\n",
    "    cdef np.ndarray[long] rbnc\n",
    "    cdef np.ndarray[long] wbp\n",
    "    cdef np.ndarray[long] wcount\n",
    "    cdef np.ndarray[double] rvel\n",
    "    \n",
    "    w = bnc.shape[1]\n",
    "    \n",
    "    it = np.nditer([bc, None, None], flags=['reduce_ok', 'external_loop','buffered', 'delay_bufalloc'],\n",
    "                    op_flags=[['readonly'], ['readwrite', 'allocate'], ['readwrite', 'allocate']])\n",
    "    it.operands[1][...] = -1\n",
    "    it.operands[2][...] = 0\n",
    "    it.reset()\n",
    "    \n",
    "    read_bnc = np.nditer([bnc], flags=['external_loop','buffered'],op_flags=[['readonly']])\n",
    "    read_vel = np.nditer([velocity], flags=['external_loop','buffered'],op_flags=[['readonly']])\n",
    "\n",
    "    for array_bc, array_bp, array_count in it:\n",
    "        rbc    = array_bc\n",
    "        wbp    = array_bp\n",
    "        wcount = array_count\n",
    "        rbnc   = read_bnc[0]\n",
    "        rvel   = read_vel[0]\n",
    "        \n",
    "        size   = rbc.shape[0]\n",
    "        for i in range(size):\n",
    "            for j in range(i+1, size):\n",
    "                partnerID = rbc[j]\n",
    "                for k in range(w):\n",
    "                    if partnerID == rbnc[i*w+k]:\n",
    "                        if wbp[i] == -1:\n",
    "                            wbp[i] = j\n",
    "                        else:\n",
    "                            tempoz = rvel[wbp[i]*3]*rvel[wbp[i]*3] + \\\n",
    "                                     rvel[wbp[i]*3+1]*rvel[wbp[i]*3+1] + \\\n",
    "                                     rvel[wbp[i]*3+2]*rvel[wbp[i]*3+2]\n",
    "                            if tempoz < rvel[j*3]*rvel[j*3] +\\\n",
    "                                        rvel[j*3+1]*rvel[j*3+1] + \\\n",
    "                                        rvel[j*3+2]*rvel[j*3+2]:\n",
    "                                wbp[i] = j\n",
    "                        wcount[i] += 1\n",
    "                        break\n",
    "                        \n",
    "    return it.operands[1], it.operands[2]\n"
   ]
  },
  {
   "cell_type": "code",
   "execution_count": 20,
   "metadata": {
    "collapsed": true
   },
   "outputs": [],
   "source": [
    "%%cython\n",
    "# this is a test, to see if more performance can be achieved with np.nditer\n",
    "\n",
    "import cython\n",
    "import numpy as np\n",
    "cimport numpy as np\n",
    "\n",
    "@cython.nonecheck(False)\n",
    "@cython.boundscheck(False)\n",
    "@cython.profile(False)\n",
    "def csearch3(long [:,:] bnc, long [:] bc, double [:,:] velocity):\n",
    "    cdef long size, w, i, j, k, partnerID\n",
    "    cdef double tempoz\n",
    "    cdef np.ndarray[long] rbc\n",
    "    cdef np.ndarray[long] rbnc\n",
    "    cdef np.ndarray[long] wbp\n",
    "    cdef np.ndarray[long] wcount\n",
    "    cdef np.ndarray[double] rvel\n",
    "    cdef np.ndarray[double] rvel2\n",
    "    \n",
    "    w = bnc.shape[1]\n",
    "    \n",
    "    it = np.nditer([bc, None, None], flags=['external_loop','buffered', 'reduce_ok', 'delay_bufalloc'],\n",
    "                    op_flags=[['readonly'], ['readwrite', 'allocate'], ['readwrite', 'allocate']],\n",
    "                    op_dtypes=['long', 'long', 'long'])\n",
    "    it.operands[1][...] = -1\n",
    "    it.operands[2][...] = 0\n",
    "    it.reset()\n",
    "    \n",
    "    read_bnc = np.nditer([bnc], flags=['external_loop','buffered'],\n",
    "                         op_flags=[['readonly']], op_dtypes=['long'])\n",
    "    \n",
    "    read_vel = np.nditer([velocity, None], flags=['external_loop','buffered', 'reduce_ok', 'delay_bufalloc'],\n",
    "                         op_flags=[['readonly'], ['readwrite', 'allocate']], op_dtypes=['double', 'double'],\n",
    "                         op_axes=[[0,1], None])\n",
    "    read_vel.operands[1][...] = 0\n",
    "    read_vel.reset()\n",
    "    \n",
    "    \n",
    "    for array_bc, array_bp, array_count in it:\n",
    "        rbc    = array_bc\n",
    "        wbp    = array_bp\n",
    "        wcount = array_count\n",
    "        rbnc   = read_bnc[0]\n",
    "        \n",
    "        for rvel, rvel2 in read_vel:\n",
    "            #rvel   = read_vel[0]\n",
    "            rvel2[...] = rvel*rvel\n",
    "\n",
    "            size   = rbc.shape[0]\n",
    "            for i in range(size):\n",
    "                for j in range(i+1, size):\n",
    "                    partnerID = rbc[j]\n",
    "                    for k in range(w):\n",
    "                        if partnerID == rbnc[i*w+k]:\n",
    "                            if wbp[i] == -1:\n",
    "                                wbp[i] = j\n",
    "                            else:\n",
    "                                tempoz = rvel2[wbp[i]*3] + rvel2[wbp[i]*3+1] + rvel2[wbp[i]*3+2]\n",
    "                                if tempoz < rvel2[j*3] + rvel2[j*3+1] + rvel2[j*3+2]:\n",
    "                                    wbp[i] = j\n",
    "                            wcount[i] += 1\n",
    "                            break\n",
    "                        \n",
    "    return it.operands[1], it.operands[2]"
   ]
  },
  {
   "cell_type": "code",
   "execution_count": 21,
   "metadata": {
    "collapsed": true
   },
   "outputs": [],
   "source": [
    "import numpy as np\n",
    "import time"
   ]
  },
  {
   "cell_type": "code",
   "execution_count": 29,
   "metadata": {
    "collapsed": true
   },
   "outputs": [],
   "source": [
    "# test for 6000 bubbles\n",
    "n = 6000"
   ]
  },
  {
   "cell_type": "code",
   "execution_count": 30,
   "metadata": {
    "collapsed": false
   },
   "outputs": [],
   "source": [
    "pbnc = np.random.randint(n/2,60000, size=(n,5)).astype(\"int64\")\n",
    "pbc = np.random.randint(n/2,60000, size=(n)).astype(\"int64\")\n",
    "pvelocity = np.random.rand(n,3).astype(\"float64\")"
   ]
  },
  {
   "cell_type": "code",
   "execution_count": 31,
   "metadata": {
    "collapsed": false,
    "scrolled": true
   },
   "outputs": [],
   "source": [
    "bp = np.zeros(n, dtype=\"int64\") - 1\n",
    "count = np.zeros(n, dtype=\"int64\")"
   ]
  },
  {
   "cell_type": "code",
   "execution_count": 32,
   "metadata": {
    "collapsed": false
   },
   "outputs": [],
   "source": [
    "t1 = time.time()\n",
    "k1, k2 =nsearch(pbnc, pbc, pvelocity)\n",
    "t2 = time.time()\n",
    "csearch1(pbnc, pbc, pvelocity, bp, count)\n",
    "t3 = time.time()\n",
    "k3, k4 = csearch2(pbnc, pbc, pvelocity)\n",
    "t4 = time.time()"
   ]
  },
  {
   "cell_type": "code",
   "execution_count": 33,
   "metadata": {
    "collapsed": false
   },
   "outputs": [
    {
     "data": {
      "text/plain": [
       "True"
      ]
     },
     "execution_count": 33,
     "metadata": {},
     "output_type": "execute_result"
    }
   ],
   "source": [
    "np.all(k2==count)"
   ]
  },
  {
   "cell_type": "code",
   "execution_count": 34,
   "metadata": {
    "collapsed": false
   },
   "outputs": [
    {
     "data": {
      "text/plain": [
       "True"
      ]
     },
     "execution_count": 34,
     "metadata": {},
     "output_type": "execute_result"
    }
   ],
   "source": [
    "np.all(k4==count)"
   ]
  },
  {
   "cell_type": "code",
   "execution_count": 35,
   "metadata": {
    "collapsed": false
   },
   "outputs": [
    {
     "name": "stdout",
     "output_type": "stream",
     "text": [
      "Performance competition of bubble interaction detector for 6000 bubbles:\n",
      "numpy + python loop: 61.4318 s\n",
      "cython memoryview:    7.0924 s\n",
      "cython nditerator:    0.2400 s\n",
      "\n"
     ]
    }
   ],
   "source": [
    "print(\"Performance competition of bubble interaction detector for %s bubbles:\"%n)\n",
    "print(\"numpy + python loop: {0:7.4f} s\\n\"\\\n",
    "      \"cython memoryview:   {1:7.4f} s\\n\"\\\n",
    "      \"cython nditerator:   {2:7.4f} s\\n\".format(t2-t1,t3-t2,t4-t3))"
   ]
  },
  {
   "cell_type": "code",
   "execution_count": 256,
   "metadata": {
    "collapsed": false
   },
   "outputs": [
    {
     "name": "stdout",
     "output_type": "stream",
     "text": [
      "0.0119, 0.0119,\tresults the same = True\n",
      "0.0118, 0.0118,\tresults the same = True\n",
      "0.0118, 0.0118,\tresults the same = True\n",
      "0.0118, 0.0118,\tresults the same = True\n",
      "0.0118, 0.0118,\tresults the same = True\n",
      "0.0118, 0.0118,\tresults the same = True\n",
      "0.0118, 0.0118,\tresults the same = True\n",
      "0.0118, 0.0118,\tresults the same = True\n",
      "0.0118, 0.0118,\tresults the same = True\n",
      "0.0119, 0.0122,\tresults the same = True\n"
     ]
    }
   ],
   "source": [
    "n = 1000\n",
    "for _ in range(10):\n",
    "    pbnc = np.random.randint(n/2,60000, size=(n,5)).astype(\"int64\")\n",
    "    pbc = np.random.randint(n/2,60000, size=(n)).astype(\"int64\")\n",
    "    pvelocity = np.random.rand(n,3).astype(\"float64\")\n",
    "    bp = np.zeros(n, dtype=\"int64\") - 1\n",
    "    count = np.zeros(n, dtype=\"int64\")\n",
    "    t1 = time.time()\n",
    "    #search(pbnc, pbc, pvelocity, bp, count)\n",
    "    k1, k2 = csearch2(pbnc, pbc, pvelocity)\n",
    "    t2 = time.time()\n",
    "\n",
    "    t3 = time.time()\n",
    "    k3, k4 = csearch3(pbnc, pbc, pvelocity)\n",
    "    t4 = time.time()\n",
    "    \n",
    "    print( \"{0:2.4f}, {1:2.4f}\".format(t2-t1, t4-t3) + \",\\tresults the same = \" + str(np.all(k2==k4)) )"
   ]
  },
  {
   "cell_type": "code",
   "execution_count": null,
   "metadata": {
    "collapsed": true
   },
   "outputs": [],
   "source": []
  }
 ],
 "metadata": {
  "kernelspec": {
   "display_name": "Python 3",
   "language": "python",
   "name": "python3"
  },
  "language_info": {
   "codemirror_mode": {
    "name": "ipython",
    "version": 3
   },
   "file_extension": ".py",
   "mimetype": "text/x-python",
   "name": "python",
   "nbconvert_exporter": "python",
   "pygments_lexer": "ipython3",
   "version": "3.5.2"
  }
 },
 "nbformat": 4,
 "nbformat_minor": 1
}
